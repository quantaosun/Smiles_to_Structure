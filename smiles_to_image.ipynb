{
  "cells": [
    {
      "cell_type": "markdown",
      "source": [
        "# This is a workflow to display as many as SMILES chemical string to 10,000 images\n",
        "\n",
        "This script reads a list of SMILES (Simplified Molecular Input Line Entry System) strings from a file, converts them into chemical structures using RDKit, and displays the structures as images directly within a Jupyter notebook. Each structure is labeled with its entry number."
      ],
      "metadata": {
        "id": "c2XGOn56ecBs"
      }
    },
    {
      "cell_type": "markdown",
      "metadata": {
        "id": "yaHsA4F5hMBW"
      },
      "source": [
        "## Instal conda in Colab"
      ]
    },
    {
      "cell_type": "code",
      "execution_count": null,
      "metadata": {
        "id": "sP7FDoLEu78B"
      },
      "outputs": [],
      "source": [
        "!pip install -q condacolab\n",
        "import condacolab\n",
        "condacolab.install()"
      ]
    },
    {
      "cell_type": "markdown",
      "source": [
        "# Please give a short time for the kenerl to restart, before you move on to the next cell"
      ],
      "metadata": {
        "id": "1n5icUU-dqtL"
      }
    },
    {
      "cell_type": "code",
      "source": [
        "! conda install -c rdkit rdkit -y &> /dev/null\n",
        "!conda install -q -y -c openbabel openbabel -y &> /dev/null"
      ],
      "metadata": {
        "id": "bpmEOgDtdpen"
      },
      "execution_count": null,
      "outputs": []
    },
    {
      "cell_type": "markdown",
      "metadata": {
        "id": "eF80fSjgYL6E"
      },
      "source": [
        "# Read smiles file"
      ]
    },
    {
      "cell_type": "code",
      "execution_count": null,
      "metadata": {
        "id": "XuFbMdsfuzVd"
      },
      "outputs": [],
      "source": [
        "import pandas as pd"
      ]
    },
    {
      "cell_type": "code",
      "execution_count": null,
      "metadata": {
        "id": "umGjYhMBvMJ8"
      },
      "outputs": [],
      "source": [
        "df = pd.read_csv('1.csv')\n",
        "df"
      ]
    },
    {
      "cell_type": "markdown",
      "metadata": {
        "id": "qSPiu4FLUGtr"
      },
      "source": [
        "# Grab out SMILES and display with Rdkit\n",
        "\n",
        "```\n",
        "$2 means the 3rd coloumn, which is the smiles column, please adjust this accordingly. For example, if your smiles is on 4th column, you need $3\n",
        "```\n"
      ]
    },
    {
      "cell_type": "code",
      "execution_count": null,
      "metadata": {
        "id": "hcZWOmJK0MYJ"
      },
      "outputs": [],
      "source": [
        "!awk -F \"\\\"*,\\\"*\" '{print $2}' 1.csv > smile.smi"
      ]
    },
    {
      "cell_type": "markdown",
      "metadata": {
        "id": "ZNmzKpcFgsDP"
      },
      "source": [
        "## The smile.smi was downloaded to local laptop, and the first line was deleted since if it is not a SMILES string. Save the new smile.smi and upload again to overwrite the old one.\n",
        "\n",
        "But it was not always necessay, for example if your first row is already smiles, you don't need to do anything."
      ]
    },
    {
      "cell_type": "markdown",
      "metadata": {
        "id": "xOaIBaAydMDi"
      },
      "source": [
        "### Display the structures"
      ]
    },
    {
      "cell_type": "code",
      "execution_count": null,
      "metadata": {
        "id": "SZbb6Fx9fdHB"
      },
      "outputs": [],
      "source": [
        "from rdkit import Chem\n",
        "from rdkit.Chem import Draw\n",
        "from rdkit.Chem import rdDepictor\n",
        "from IPython.display import display\n",
        "import math\n",
        "\n",
        "# Function to split the list into chunks\n",
        "def chunks(lst, n):\n",
        "    for i in range(0, len(lst), n):\n",
        "        yield lst[i:i + n]\n",
        "\n",
        "# Read SMILES from file\n",
        "smiles_file = 'smile.smi'  # Replace with the path to your SMILES file\n",
        "\n",
        "with open(smiles_file, 'r') as file:\n",
        "    smiles_list = [line.strip() for line in file]\n",
        "\n",
        "# Convert SMILES to RDKit molecule objects\n",
        "molecules = [Chem.MolFromSmiles(smiles) for smiles in smiles_list if smiles]\n",
        "\n",
        "# Generate 2D coordinates for each molecule (important for drawing)\n",
        "for mol in molecules:\n",
        "    if mol:\n",
        "        rdDepictor.Compute2DCoords(mol)\n",
        "\n",
        "# Add entry numbers as legends\n",
        "legends = [f'{i+1}' for i in range(len(molecules))]\n",
        "\n",
        "# Split the molecules into chunks\n",
        "molecule_chunks = list(chunks(molecules, 50))  # Adjust the chunk size as needed\n",
        "legend_chunks = list(chunks(legends, 50))\n",
        "\n",
        "# Draw and display images for each chunk\n",
        "for i, (chunk, legend_chunk) in enumerate(zip(molecule_chunks, legend_chunks)):\n",
        "    img = Draw.MolsToImage(chunk, subImgSize=(200, 200), legends=legend_chunk, molsPerRow=4)\n",
        "    display(img)\n"
      ]
    }
  ],
  "metadata": {
    "colab": {
      "provenance": []
    },
    "kernelspec": {
      "display_name": "Python 3 (ipykernel)",
      "language": "python",
      "name": "python3"
    },
    "language_info": {
      "codemirror_mode": {
        "name": "ipython",
        "version": 3
      },
      "file_extension": ".py",
      "mimetype": "text/x-python",
      "name": "python",
      "nbconvert_exporter": "python",
      "pygments_lexer": "ipython3",
      "version": "3.11.6"
    }
  },
  "nbformat": 4,
  "nbformat_minor": 0
}