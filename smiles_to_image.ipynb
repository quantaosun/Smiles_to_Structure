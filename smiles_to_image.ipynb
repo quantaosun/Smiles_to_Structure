{
  "cells": [
    {
      "cell_type": "markdown",
      "source": [
        "# From SMILES to Images: Chemical Structure Conversion with RDKit in Jupyter\n"
      ],
      "metadata": {
        "id": "c2XGOn56ecBs"
      }
    },
    {
      "cell_type": "markdown",
      "metadata": {
        "id": "yaHsA4F5hMBW"
      },
      "source": [
        "# Instal conda in Colab\n",
        "Please allow a short moment for the colab connection to restart before proceeding to the next cell."
      ]
    },
    {
      "cell_type": "code",
      "execution_count": 1,
      "metadata": {
        "id": "sP7FDoLEu78B",
        "colab": {
          "base_uri": "https://localhost:8080/"
        },
        "outputId": "a2c4660b-26dc-49c4-a70c-72bd7f26eed3"
      },
      "outputs": [
        {
          "output_type": "stream",
          "name": "stdout",
          "text": [
            "⏬ Downloading https://github.com/conda-forge/miniforge/releases/download/23.11.0-0/Mambaforge-23.11.0-0-Linux-x86_64.sh...\n",
            "📦 Installing...\n",
            "📌 Adjusting configuration...\n",
            "🩹 Patching environment...\n",
            "⏲ Done in 0:00:12\n",
            "🔁 Restarting kernel...\n"
          ]
        }
      ],
      "source": [
        "!pip install -q condacolab\n",
        "import condacolab\n",
        "condacolab.install()"
      ]
    },
    {
      "cell_type": "markdown",
      "source": [
        "# Install Rdkit\n"
      ],
      "metadata": {
        "id": "1n5icUU-dqtL"
      }
    },
    {
      "cell_type": "code",
      "source": [
        "! conda install -c rdkit rdkit -y &> /dev/null\n",
        "import pandas as pd"
      ],
      "metadata": {
        "id": "bpmEOgDtdpen"
      },
      "execution_count": 1,
      "outputs": []
    },
    {
      "cell_type": "markdown",
      "metadata": {
        "id": "eF80fSjgYL6E"
      },
      "source": [
        "# Prepare Input file from a raw file\n",
        "Read smiles as data frame, please modify the input name ```1.csv``` to your input file name\n"
      ]
    },
    {
      "cell_type": "code",
      "execution_count": null,
      "metadata": {
        "id": "umGjYhMBvMJ8"
      },
      "outputs": [],
      "source": [
        "#change the inout name, it can be *.csv or *.smi formats\n",
        "df = pd.read_csv('1.csv')\n",
        "df"
      ]
    },
    {
      "cell_type": "markdown",
      "metadata": {
        "id": "qSPiu4FLUGtr"
      },
      "source": [
        "Grab out SMILES and write it into a new file\n",
        "\n",
        "```\n",
        "$2 means the 3rd coloumn, which is the smiles column, please adjust this accordingly. For example, if your smiles is on 4th column, you need $3\n",
        "```\n"
      ]
    },
    {
      "cell_type": "code",
      "execution_count": 5,
      "metadata": {
        "id": "hcZWOmJK0MYJ"
      },
      "outputs": [],
      "source": [
        "!awk -F \"\\\"*,\\\"*\" '{print $2}' 1.csv > smile.smi"
      ]
    },
    {
      "cell_type": "markdown",
      "source": [
        "If an error occurs in the next step, you may need to double-check the format of the smile.smi file. Ensure that there are no unnecessary titles or extra content that could cause issues. This is especially important, as different users may provide files with varying formats, which can lead to unpredictable errors."
      ],
      "metadata": {
        "id": "K3IgQ0XLRE5j"
      }
    },
    {
      "cell_type": "markdown",
      "metadata": {
        "id": "ZNmzKpcFgsDP"
      },
      "source": [
        "# Display the structure\n",
        "\n",
        "But it was not always necessay, for example if your first row is already smiles, you don't need to do anything."
      ]
    },
    {
      "cell_type": "markdown",
      "metadata": {
        "id": "xOaIBaAydMDi"
      },
      "source": [
        "### Display the structures"
      ]
    },
    {
      "cell_type": "code",
      "execution_count": null,
      "metadata": {
        "id": "SZbb6Fx9fdHB"
      },
      "outputs": [],
      "source": [
        "from rdkit import Chem\n",
        "from rdkit.Chem import Draw\n",
        "from rdkit.Chem import rdDepictor\n",
        "from IPython.display import display\n",
        "import math\n",
        "\n",
        "# Function to split the list into chunks\n",
        "def chunks(lst, n):\n",
        "    for i in range(0, len(lst), n):\n",
        "        yield lst[i:i + n]\n",
        "\n",
        "# Read SMILES from file\n",
        "smiles_file = 'smile.smi'  # Replace with the path to your SMILES file\n",
        "\n",
        "with open(smiles_file, 'r') as file:\n",
        "    smiles_list = [line.strip() for line in file]\n",
        "\n",
        "# Convert SMILES to RDKit molecule objects\n",
        "molecules = [Chem.MolFromSmiles(smiles) for smiles in smiles_list if smiles]\n",
        "\n",
        "# Generate 2D coordinates for each molecule (important for drawing)\n",
        "for mol in molecules:\n",
        "    if mol:\n",
        "        rdDepictor.Compute2DCoords(mol)\n",
        "\n",
        "# Add entry numbers as legends\n",
        "legends = [f'{i+1}' for i in range(len(molecules))]\n",
        "\n",
        "# Split the molecules into chunks\n",
        "molecule_chunks = list(chunks(molecules, 50))  # Adjust the chunk size as needed\n",
        "legend_chunks = list(chunks(legends, 50))\n",
        "\n",
        "# Draw and display images for each chunk\n",
        "for i, (chunk, legend_chunk) in enumerate(zip(molecule_chunks, legend_chunks)):\n",
        "    img = Draw.MolsToImage(chunk, subImgSize=(200, 200), legends=legend_chunk, molsPerRow=4)\n",
        "    display(img)\n"
      ]
    }
  ],
  "metadata": {
    "colab": {
      "provenance": []
    },
    "kernelspec": {
      "display_name": "Python 3 (ipykernel)",
      "language": "python",
      "name": "python3"
    },
    "language_info": {
      "codemirror_mode": {
        "name": "ipython",
        "version": 3
      },
      "file_extension": ".py",
      "mimetype": "text/x-python",
      "name": "python",
      "nbconvert_exporter": "python",
      "pygments_lexer": "ipython3",
      "version": "3.11.6"
    }
  },
  "nbformat": 4,
  "nbformat_minor": 0
}